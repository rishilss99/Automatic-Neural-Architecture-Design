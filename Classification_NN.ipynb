{
 "cells": [
  {
   "cell_type": "markdown",
   "metadata": {},
   "source": [
    "## Iris Classification Neural Network\n",
    "Custom network and training and procedure for classification"
   ]
  },
  {
   "cell_type": "markdown",
   "metadata": {},
   "source": [
    "### Must Remember points\n",
    "**TensorDataset and Trainloader help avoid data type mismatch**  \n",
    "**Functional is deprecated use torch.activation_function**  \n",
    "**Cross entropy loss function requires only the logits or the linear ouput values**  \n",
    "**Instead of softmax from experience it is better to use log_softmax with a NLLLoss function**  \n",
    "**View at the start of the forward method in the model is very important**  \n",
    "**Always use a custom Softmax function to check if that the forward method works properly**\n",
    "**Validation code changes according to the final activation function being used**"
   ]
  },
  {
   "cell_type": "code",
   "execution_count": 565,
   "metadata": {},
   "outputs": [],
   "source": [
    "from sklearn import datasets\n",
    "import torch\n",
    "from torch import nn\n",
    "from sklearn import model_selection\n",
    "from torch.utils.data import TensorDataset\n",
    "from torch.utils.data import DataLoader\n",
    "from torch.autograd import Variable\n",
    "import matplotlib.pyplot as plt"
   ]
  },
  {
   "cell_type": "code",
   "execution_count": 202,
   "metadata": {},
   "outputs": [],
   "source": [
    "data = datasets.load_iris()\n",
    "x = data['data']\n",
    "y = data['target']"
   ]
  },
  {
   "cell_type": "code",
   "execution_count": 203,
   "metadata": {},
   "outputs": [],
   "source": [
    "x_train, x_val, y_train, y_val = model_selection.train_test_split(data.data,data.target,test_size = 0.2)"
   ]
  },
  {
   "cell_type": "code",
   "execution_count": 552,
   "metadata": {},
   "outputs": [],
   "source": [
    "x_tr_ten = torch.FloatTensor(x_train)\n",
    "y_tr_ten = torch.LongTensor(y_train)\n",
    "\n",
    "trainloader = TensorDataset(x_tr_ten,y_tr_ten)\n",
    "\n",
    "x_te_ten = torch.FloatTensor(x_val)\n",
    "y_te_ten = torch.LongTensor(y_val)\n",
    "\n",
    "testloader = TensorDataset(x_te_ten,y_te_ten)"
   ]
  },
  {
   "cell_type": "code",
   "execution_count": 553,
   "metadata": {},
   "outputs": [],
   "source": [
    "trainer = DataLoader(trainloader,batch_size=5)\n",
    "tester = DataLoader(testloader,batch_size=5)"
   ]
  },
  {
   "cell_type": "code",
   "execution_count": 460,
   "metadata": {},
   "outputs": [],
   "source": [
    "class Model(nn.Module):\n",
    "    \n",
    "    def __init__(self):\n",
    "        \n",
    "        super().__init__()\n",
    "        \n",
    "        self.hidden1 = nn.Linear(4,10)\n",
    "        self.hidden2 = nn.Linear(10,10)\n",
    "        self.hidden3 = nn.Linear(10,8)\n",
    "        self.output = nn.Linear(8,3)\n",
    "        \n",
    "    def forward(self,x):\n",
    "        \n",
    "        #Incorrect answer\n",
    "        x = x.view(-1,4)\n",
    "        \n",
    "        #This is incorrect\n",
    "        #x=x.view(x.shape[0],-1)\n",
    "        \n",
    "        x = torch.sigmoid(self.hidden1(x))\n",
    "        x = torch.sigmoid(self.hidden2(x))\n",
    "        x = torch.sigmoid(self.hidden3(x))\n",
    "        \n",
    "        #This is incorrect\n",
    "        #x = torch.log_softmax(self.output(x),dim=0)\n",
    "        x = torch.log_softmax(self.output(x),dim=1)\n",
    "        \n",
    "        return x"
   ]
  },
  {
   "cell_type": "code",
   "execution_count": 661,
   "metadata": {},
   "outputs": [],
   "source": [
    "#Experimental code to understand the working\n",
    "# t = torch.rand(1,4)\n",
    "# t = t.view(-1,4)\n",
    "# t.shape\n",
    "\n",
    "# x_tr_ten[0].shape\n",
    "\n",
    "# output = mod(next(iter(trainer))[0])\n",
    "# output.shape\n",
    "\n",
    "# final = torch.softmax(output,dim=1)\n",
    "# final\n",
    "\n",
    "# next(iter(trainer))[1]\n",
    "\n",
    "# sample=x_tr_ten[0]\n",
    "# answer=y_tr_ten[0]\n",
    "# sample,answer\n",
    "\n",
    "# out = mod(sample)\n",
    "# print(out.shape)\n",
    "\n",
    "# out\n",
    "\n",
    "# def softmax(x):\n",
    "#     return torch.exp(x)/torch.sum(torch.exp(x), dim=1).view(-1, 1)\n",
    "\n",
    "# prob = torch.softmax(out,dim=1)\n",
    "# loss_function(prob,answer.view(1))\n",
    "\n",
    "# samples\n",
    "\n",
    "# model_trial = Model()\n",
    "# samples,labels = next(iter(trainer))\n",
    "# output = model_trial(samples)\n",
    "# ps = torch.exp(output)\n",
    "# print(labels)\n",
    "# print(ps)\n",
    "# maxi = torch.eq(torch.max(ps,dim=1)[1],labels).view(-1)  #------------->View is needed for the sum being the total of 5 values\n",
    "# sum(maxi).item()\n",
    "# maxi.shape[0]\n",
    "\n",
    "# epoch = 2\n",
    "\n",
    "# for i in range(epoch):\n",
    "#     running_loss = 0\n",
    "#     for features,targets in trainer:\n",
    "        \n",
    "#         optimizer.zero_grad()\n",
    "    \n",
    "#         loss = loss_function(mod(features.to(device)),targets.to(device))\n",
    "#         loss.backward()\n",
    "#         optimizer.step()\n",
    "        \n",
    "#         running_loss+= loss.item()\n",
    "        \n",
    "#     else:\n",
    "#         print(\"Training loss: \" + str(running_loss/len(trainer)))\n",
    "        "
   ]
  },
  {
   "cell_type": "code",
   "execution_count": 701,
   "metadata": {},
   "outputs": [],
   "source": [
    "mod = Model()\n",
    "loss_function = nn.NLLLoss()\n",
    "#optimizer = torch.optim.SGD(mod.parameters(),lr=0.01)\n",
    "optimizer = torch.optim.Adam(mod.parameters(),lr=0.03)"
   ]
  },
  {
   "cell_type": "code",
   "execution_count": 702,
   "metadata": {},
   "outputs": [
    {
     "data": {
      "text/plain": [
       "Model(\n",
       "  (hidden1): Linear(in_features=4, out_features=10, bias=True)\n",
       "  (hidden2): Linear(in_features=10, out_features=10, bias=True)\n",
       "  (hidden3): Linear(in_features=10, out_features=8, bias=True)\n",
       "  (output): Linear(in_features=8, out_features=3, bias=True)\n",
       ")"
      ]
     },
     "execution_count": 702,
     "metadata": {},
     "output_type": "execute_result"
    }
   ],
   "source": [
    "if torch.cuda.is_available:\n",
    "    device = torch.device(\"cuda\")\n",
    "else:\n",
    "    device = torch.device(\"cpu\")\n",
    "\n",
    "mod.to(device)"
   ]
  },
  {
   "cell_type": "code",
   "execution_count": 763,
   "metadata": {},
   "outputs": [],
   "source": [
    "def train(model,optimizer,loss_fun,trainloader,testloader,epochs=15,device=\"cuda\"):\n",
    "    \n",
    "    tr_list = []\n",
    "    val_list = []\n",
    "    acc_list = []\n",
    "    epoch_list = [i+1 for i in range(epochs)]\n",
    "    \n",
    "    for epoch in range(epochs):\n",
    "        \n",
    "        training_loss = 0\n",
    "        validation_loss = 0\n",
    "        model.train()                #--------------------->Allows for parameters to be updated by backpropagation\n",
    "        \n",
    "        for batch in trainloader:\n",
    "            \n",
    "            optimizer.zero_grad()\n",
    "            inputs,labels = batch\n",
    "            inputs = inputs.to(device)\n",
    "            labels = labels.to(device)\n",
    "            outputs = model(inputs)\n",
    "            loss = loss_fun(outputs,labels)\n",
    "            loss.backward()\n",
    "            optimizer.step()\n",
    "            \n",
    "            training_loss += loss.item()\n",
    "        \n",
    "        model.eval()              #------------------------>Freezes the parameters for model validation\n",
    "        correct_pred = 0\n",
    "        total_pred = 0\n",
    "        \n",
    "        for batch in testloader:\n",
    "            \n",
    "            inputs,labels = batch\n",
    "            inputs = inputs.to(device)\n",
    "            labels = labels.to(device)\n",
    "            outputs = model(inputs)\n",
    "            loss = loss_fun(outputs,labels)\n",
    "            \n",
    "            validation_loss +=loss.item()\n",
    "            \n",
    "            ps = torch.exp(outputs)         #-------------->The final activation function is Log_Softmax that's why we take exp\n",
    "            \n",
    "            correct = torch.eq(torch.max(ps,dim=1)[1],labels).view(-1)\n",
    "            \n",
    "            correct_pred += torch.sum(correct).item()\n",
    "            total_pred += correct.shape[0]       #--------->Alternatively can also write batch.shape[0]\n",
    "            \n",
    "        training_loss = training_loss/len(trainloader)\n",
    "        validation_loss = validation_loss/len(testloader)\n",
    "        \n",
    "        tr_list.append(training_loss)\n",
    "        val_list.append(validation_loss)\n",
    "        acc_list.append((correct_pred*100.0/total_pred))\n",
    "            \n",
    "        print(\"Epoch: {}, Training Loss: {:.2f}, Validation Loss: {:.2f}, accuracy = {:.2f}\"\n",
    "              .format(epoch+1, training_loss,validation_loss, correct_pred * 100.0 / total_pred))\n",
    "    \n",
    "    fig = plt.figure(figsize=(20,6))\n",
    "        \n",
    "    plt.subplot(1,3,1)\n",
    "    plt.plot(epoch_list,tr_list)\n",
    "    plt.title(\"Training Loss\")\n",
    "    plt.xlabel(\"Epochs\")\n",
    "    \n",
    "    plt.subplot(1,3,2)\n",
    "    plt.plot(epoch_list,val_list)\n",
    "    plt.title(\"Validation Loss\")\n",
    "    plt.xlabel(\"Epochs\")\n",
    "    \n",
    "    plt.subplot(1,3,3)\n",
    "    plt.plot(epoch_list,acc_list)\n",
    "    plt.title(\"Accuracy\")\n",
    "    plt.xlabel(\"Epochs\")\n",
    "    plt.savefig(\"No_opti.png\")\n",
    "    \n",
    "    plt.show()"
   ]
  },
  {
   "cell_type": "code",
   "execution_count": 787,
   "metadata": {},
   "outputs": [
    {
     "data": {
      "text/plain": [
       "Sequential(\n",
       "  (0): Linear(in_features=4, out_features=8, bias=True)\n",
       "  (1): ReLU()\n",
       "  (2): Linear(in_features=8, out_features=3, bias=True)\n",
       "  (3): LogSoftmax()\n",
       ")"
      ]
     },
     "execution_count": 787,
     "metadata": {},
     "output_type": "execute_result"
    }
   ],
   "source": [
    "seq = nn.Sequential(nn.Linear(4,8),nn.ReLU(),nn.Linear(8,3),nn.LogSoftmax(dim=1))\n",
    "criterion_seq = nn.NLLLoss()\n",
    "optimizer_seq = torch.optim.SGD(seq.parameters(),lr=0.008)\n",
    "seq.to(device)"
   ]
  },
  {
   "cell_type": "code",
   "execution_count": 788,
   "metadata": {},
   "outputs": [
    {
     "name": "stdout",
     "output_type": "stream",
     "text": [
      "Epoch: 1, Training Loss: 1.25, Validation Loss: 1.14, accuracy = 26.67\n",
      "Epoch: 2, Training Loss: 1.05, Validation Loss: 1.02, accuracy = 56.67\n",
      "Epoch: 3, Training Loss: 0.96, Validation Loss: 0.94, accuracy = 56.67\n",
      "Epoch: 4, Training Loss: 0.89, Validation Loss: 0.88, accuracy = 56.67\n",
      "Epoch: 5, Training Loss: 0.82, Validation Loss: 0.82, accuracy = 56.67\n",
      "Epoch: 6, Training Loss: 0.76, Validation Loss: 0.77, accuracy = 56.67\n",
      "Epoch: 7, Training Loss: 0.71, Validation Loss: 0.73, accuracy = 56.67\n",
      "Epoch: 8, Training Loss: 0.67, Validation Loss: 0.69, accuracy = 60.00\n",
      "Epoch: 9, Training Loss: 0.63, Validation Loss: 0.65, accuracy = 60.00\n",
      "Epoch: 10, Training Loss: 0.59, Validation Loss: 0.62, accuracy = 60.00\n"
     ]
    },
    {
     "data": {
      "image/png": "[encoded data removed]",
      "text/plain": [
       "<Figure size 1440x432 with 3 Axes>"
      ]
     },
     "metadata": {
      "needs_background": "light"
     },
     "output_type": "display_data"
    }
   ],
   "source": [
    "train(seq,optimizer_seq,criterion_seq,trainer,tester,10)"
   ]
  },
  {
   "cell_type": "code",
   "execution_count": 752,
   "metadata": {},
   "outputs": [],
   "source": [
    "import torchsummary"
   ]
  },
  {
   "cell_type": "code",
   "execution_count": 794,
   "metadata": {},
   "outputs": [],
   "source": [
    "%%capture cap --no-stderr\n",
    "torchsummary.summary(seq,(1,4),batch_size=5)\n",
    "with open('out.txt', 'w') as f:\n",
    "    f.write(cap.stdout)"
   ]
  }
 ],
 "metadata": {
  "kernelspec": {
   "display_name": "Python 3",
   "language": "python",
   "name": "python3"
  },
  "language_info": {
   "codemirror_mode": {
    "name": "ipython",
    "version": 3
   },
   "file_extension": ".py",
   "mimetype": "text/x-python",
   "name": "python",
   "nbconvert_exporter": "python",
   "pygments_lexer": "ipython3",
   "version": "3.6.10"
  }
 },
 "nbformat": 4,
 "nbformat_minor": 4
}
