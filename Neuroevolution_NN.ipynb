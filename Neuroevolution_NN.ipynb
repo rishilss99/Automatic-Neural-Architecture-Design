{
 "cells": [
  {
   "cell_type": "markdown",
   "metadata": {},
   "source": [
    "## Optimizing NN architecture using Neuroevolution\n",
    "Custom pipeline for model instantiation and neuroevolution procedure"
   ]
  },
  {
   "cell_type": "markdown",
   "metadata": {},
   "source": [
    "### Must Remember points  \n",
    "**__ getattribute __ can be used to convert string to a method or class call**  \n",
    "**When using Crossentropy loss use logits as the network output**  \n",
    "**Skorch neuralnetclassifier can be used to validate results and build custom pipeline**"
   ]
  },
  {
   "cell_type": "markdown",
   "metadata": {},
   "source": [
    "### Step1 : Defining Neural Net and Validation Methods"
   ]
  },
  {
   "cell_type": "code",
   "execution_count": 55,
   "metadata": {},
   "outputs": [],
   "source": [
    "from sklearn import datasets\n",
    "import torch\n",
    "from torch import nn\n",
    "from sklearn import model_selection\n",
    "from torch.utils.data import TensorDataset\n",
    "from torch.utils.data import DataLoader\n",
    "from torch.autograd import Variable\n",
    "import matplotlib.pyplot as plt\n",
    "import math\n",
    "import skorch"
   ]
  },
  {
   "cell_type": "code",
   "execution_count": 102,
   "metadata": {},
   "outputs": [],
   "source": [
    "# cv = model_selection.KFold(n_splits=3,shuffle=True,random_state=42)\n",
    "\n",
    "# for train_index,test_index in cv.split(x):\n",
    "    \n",
    "#     x_train, y_train = x[train_index], y[train_index]\n",
    "#     x_val, y_val = x[test_index], y[test_index]\n",
    "    \n",
    "#     x_tr_ten = torch.FloatTensor(x_train)\n",
    "#     y_tr_ten = torch.LongTensor(y_train)\n",
    "\n",
    "#     trainloader = TensorDataset(torch.FloatTensor(x_train),torch.LongTensor(y_train))\n",
    "\n",
    "#     x_te_ten = torch.FloatTensor(x_val)\n",
    "#     y_te_ten = torch.LongTensor(y_val)\n",
    "\n",
    "#     testloader = TensorDataset(torch.FloatTensor(x_val),torch.LongTensor(y_val))\n",
    "\n",
    "#     trainer = DataLoader(trainloader,batch_size=5)\n",
    "#     tester = DataLoader(testloader,batch_size=5)"
   ]
  },
  {
   "cell_type": "code",
   "execution_count": 205,
   "metadata": {},
   "outputs": [],
   "source": [
    "# from skorch import NeuralNetClassifier\n",
    "# import numpy as np\n",
    "\n",
    "# neural_net = NeuralNetClassifier(NN_Model(6,0,'relu','relu'),optimizer=torch.optim.Adam,lr=0.08)\n",
    "\n",
    "# X,Y = x.astype(np.float32), y.astype(np.int64)\n",
    "\n",
    "# neural_net.fit(X,Y)\n",
    "\n",
    "# model_selection.cross_val_score(neural_net,X,Y)"
   ]
  },
  {
   "cell_type": "code",
   "execution_count": 103,
   "metadata": {},
   "outputs": [],
   "source": [
    "data = datasets.load_iris()\n",
    "x = data['data']\n",
    "y = data['target']"
   ]
  },
  {
   "cell_type": "code",
   "execution_count": 270,
   "metadata": {},
   "outputs": [
    {
     "data": {
      "text/plain": [
       "63.333333333333336"
      ]
     },
     "execution_count": 270,
     "metadata": {},
     "output_type": "execute_result"
    }
   ],
   "source": [
    "individual_accuracy([6,0,0.5,1.7,0.03,1.6])"
   ]
  },
  {
   "cell_type": "code",
   "execution_count": 322,
   "metadata": {},
   "outputs": [],
   "source": [
    "def individual_accuracy(params_list):\n",
    "    \n",
    "    accuracy_list = kfold_accuracy(params_list,x,y,3)\n",
    "    #return sum(accuracy_list)/len(accuracy_list)\n",
    "    return accuracy_list"
   ]
  },
  {
   "cell_type": "code",
   "execution_count": 261,
   "metadata": {},
   "outputs": [],
   "source": [
    "def kfold_accuracy(params_list,x,y,splits=3):\n",
    "    \n",
    "    kfold_accuracy = []\n",
    "    kfold = model_selection.KFold(n_splits=splits,shuffle=True,random_state=42)\n",
    "\n",
    "    for train_index,test_index in kfold.split(x):\n",
    "    \n",
    "        x_train, y_train = x[train_index], y[train_index]\n",
    "        x_val, y_val = x[test_index], y[test_index]\n",
    "    \n",
    "#         x_tr_ten = torch.FloatTensor(x_train)\n",
    "#         y_tr_ten = torch.LongTensor(y_train)\n",
    "\n",
    "        trainloader = TensorDataset(torch.FloatTensor(x_train),torch.LongTensor(y_train))\n",
    "\n",
    "#         x_te_ten = torch.FloatTensor(x_val)\n",
    "#         y_te_ten = torch.LongTensor(y_val)\n",
    "\n",
    "        testloader = TensorDataset(torch.FloatTensor(x_val),torch.LongTensor(y_val))\n",
    "\n",
    "        trainer = DataLoader(trainloader,batch_size=5)\n",
    "        tester = DataLoader(testloader,batch_size=5)\n",
    "        \n",
    "        kfold_accuracy.append(get_accuracy(params_list))\n",
    "        \n",
    "    return kfold_accuracy"
   ]
  },
  {
   "cell_type": "code",
   "execution_count": 250,
   "metadata": {},
   "outputs": [],
   "source": [
    "class NN_Model(nn.Module):\n",
    "    \n",
    "    def __init__(self,layer_1,layer_2,activation_1,activation_2):\n",
    "        \n",
    "        super().__init__()\n",
    "        \n",
    "        self.hidden1 = nn.Linear(4,layer_1)\n",
    "        \n",
    "        self.layer_2 = False\n",
    "        \n",
    "        if layer_2>3:\n",
    "            \n",
    "            self.layer_2 = True\n",
    " \n",
    "            self.hidden2 = nn.Linear(layer_1,layer_2)\n",
    "        \n",
    "            self.output = nn.Linear(layer_2,3)\n",
    "        \n",
    "        else:\n",
    "            self.output = nn.Linear(layer_1,3)\n",
    "        \n",
    "        self.activation1 = torch.__getattribute__(activation_1)\n",
    "        \n",
    "        self.activation2 = torch.__getattribute__(activation_2)\n",
    "        \n",
    "    def forward(self,x):\n",
    "        \n",
    "        x = x.view(-1,4)\n",
    "        \n",
    "        x = self.activation1(self.hidden1(x))\n",
    "        \n",
    "        if self.layer_2:\n",
    "            \n",
    "            x = self.activation2(self.hidden2(x))\n",
    "        \n",
    "        x = torch.log_softmax(self.output(x),dim=1)\n",
    "        \n",
    "        #TODO: When using Cross-Entropy loss as criterion\n",
    "        #x = self.output(x)\n",
    "        \n",
    "        return x"
   ]
  },
  {
   "cell_type": "code",
   "execution_count": 289,
   "metadata": {},
   "outputs": [],
   "source": [
    "def convert_params(input_list):\n",
    "    \n",
    "    activation_fn = [\"sigmoid\",\"relu\",\"tanh\"]\n",
    "    optimizer_fn = [\"Adam\",\"SGD\",\"Adagrad\"]\n",
    "    \n",
    "    layer1 = round(input_list[0])\n",
    "    \n",
    "    layer2 = round(input_list[1])\n",
    "    \n",
    "    activation1 = activation_fn[math.floor(input_list[2])]\n",
    "    \n",
    "    activation2 = activation_fn[math.floor(input_list[3])]\n",
    "    \n",
    "    learning_rate = input_list[4]\n",
    "    \n",
    "    optimizer = optimizer_fn[math.floor(input_list[5])]\n",
    "    \n",
    "    return layer1, layer2, activation1, activation2, learning_rate, optimizer    "
   ]
  },
  {
   "cell_type": "code",
   "execution_count": 251,
   "metadata": {},
   "outputs": [],
   "source": [
    "def get_accuracy(params_list):\n",
    "    \n",
    "    \"\"\"The function takes the input of the floating number encoded chromosome and returns the accuracy as thr output\"\"\"\n",
    "    \n",
    "    layer1, layer2, activation1, activation2, learning_rate, optimizer = convert_params(params_list)\n",
    "    \n",
    "    classifier = NN_Model(layer1, layer2, activation1, activation2)\n",
    "    \n",
    "    if torch.cuda.is_available:\n",
    "        device = torch.device(\"cuda\")\n",
    "    else:\n",
    "        device = torch.device(\"cpu\")\n",
    "\n",
    "    classifier.to(device)\n",
    "\n",
    "    loss_function = nn.NLLLoss()\n",
    "    \n",
    "    opt = torch.optim.__getattribute__(optimizer)\n",
    "    \n",
    "    optimizer = opt(classifier.parameters(),lr=learning_rate)\n",
    "    \n",
    "    accuracy = train(classifier,optimizer,loss_function,trainer,tester,epochs=10)\n",
    "    \n",
    "    #return max(accuracy)\n",
    "    return sum(accuracy)/len(accuracy)"
   ]
  },
  {
   "cell_type": "code",
   "execution_count": 257,
   "metadata": {},
   "outputs": [
    {
     "data": {
      "text/plain": [
       "61.66666666666667"
      ]
     },
     "execution_count": 257,
     "metadata": {},
     "output_type": "execute_result"
    }
   ],
   "source": [
    "get_accuracy([6,2,0.5,1.7,0.03,1.6])"
   ]
  },
  {
   "cell_type": "code",
   "execution_count": 383,
   "metadata": {},
   "outputs": [],
   "source": [
    "def train(model,optimizer,loss_fun,trainloader,testloader,epochs=15,device=\"cuda\"):\n",
    "    \n",
    "    tr_list = []\n",
    "    val_list = []\n",
    "    acc_list = []\n",
    "    epoch_list = [i+1 for i in range(epochs)]\n",
    "    \n",
    "    for epoch in range(epochs):\n",
    "        \n",
    "        training_loss = 0\n",
    "        validation_loss = 0\n",
    "        model.train()                #--------------------->Allows for parameters to be updated by backpropagation\n",
    "        \n",
    "        for batch in trainloader:\n",
    "            \n",
    "            optimizer.zero_grad()\n",
    "            inputs,labels = batch\n",
    "            inputs = inputs.to(device)\n",
    "            labels = labels.to(device)\n",
    "            outputs = model(inputs)\n",
    "            loss = loss_fun(outputs,labels)\n",
    "            loss.backward()\n",
    "            optimizer.step()\n",
    "            \n",
    "            training_loss += loss.item()\n",
    "        \n",
    "        model.eval()              #------------------------>Freezes the parameters for model validation\n",
    "        correct_pred = 0\n",
    "        total_pred = 0\n",
    "        \n",
    "        for batch in testloader:\n",
    "            \n",
    "            inputs,labels = batch\n",
    "            inputs = inputs.to(device)\n",
    "            labels = labels.to(device)\n",
    "            outputs = model(inputs)\n",
    "            loss = loss_fun(outputs,labels)\n",
    "            \n",
    "            validation_loss +=loss.item()\n",
    "            \n",
    "            ps = torch.exp(outputs)         #-------------->The final activation function is Log_Softmax that's why we take exp\n",
    "            \n",
    "            correct = torch.eq(torch.max(ps,dim=1)[1],labels).view(-1)\n",
    "            \n",
    "            correct_pred += torch.sum(correct).item()\n",
    "            total_pred += correct.shape[0]       #--------->Alternatively can also write batch.shape[0]\n",
    "            \n",
    "        training_loss = training_loss/len(trainloader)\n",
    "        validation_loss = validation_loss/len(testloader)\n",
    "        \n",
    "        tr_list.append(training_loss)\n",
    "        val_list.append(validation_loss)\n",
    "        acc_list.append((correct_pred*100.0/total_pred))\n",
    "    \n",
    "    print(\"Mean Accuracy: {}\".format(sum(acc_list)/len(acc_list)))\n",
    "    print(\"Max Accuracy: {} at Epoch: {}\".format(max(acc_list),acc_list.index(max(acc_list))))\n",
    "            \n",
    "    print(\"Epoch: {}, Training Loss: {:.2f}, Validation Loss: {:.2f}, accuracy = {:.2f}\"\n",
    "              .format(epoch+1, training_loss,validation_loss, correct_pred * 100.0 / total_pred))\n",
    "    \n",
    "    fig = plt.figure(figsize=(20,6))\n",
    "        \n",
    "    plt.subplot(1,3,1)\n",
    "    plt.plot(epoch_list,tr_list)\n",
    "    plt.title(\"Training Loss\")\n",
    "    \n",
    "    plt.subplot(1,3,2)\n",
    "    plt.plot(epoch_list,val_list)\n",
    "    plt.title(\"Validation Loss\")\n",
    "    \n",
    "    plt.subplot(1,3,3)\n",
    "    plt.plot(epoch_list,acc_list)\n",
    "    plt.title(\"Accuracy\")\n",
    "    \n",
    "    plt.savefig('Opti_graph2.png')\n",
    "    plt.show()\n",
    "   \n",
    "    \n",
    "    return acc_list"
   ]
  },
  {
   "cell_type": "markdown",
   "metadata": {},
   "source": [
    "### Step 2: Evolving Solution using Genetic Algorithm"
   ]
  },
  {
   "cell_type": "code",
   "execution_count": 329,
   "metadata": {},
   "outputs": [],
   "source": [
    "from deap import tools\n",
    "from deap import base\n",
    "from deap import creator\n",
    "import random\n",
    "import elitism\n",
    "import numpy as np\n",
    "import seaborn as sns"
   ]
  },
  {
   "cell_type": "code",
   "execution_count": 273,
   "metadata": {},
   "outputs": [],
   "source": [
    "BOUNDS_LOW =  [5 , -5 , 0     , 0     , 0.001 , 0    ]\n",
    "BOUNDS_HIGH = [15, 10 , 2.999 , 2.999 , 1.0   , 2.999]"
   ]
  },
  {
   "cell_type": "code",
   "execution_count": 336,
   "metadata": {},
   "outputs": [],
   "source": [
    "POPULATION_SIZE = 20\n",
    "P_CROSSOVER = 0.9\n",
    "P_MUTATION = 0.2\n",
    "MAX_GENERATIONS = 8\n",
    "HALL_OF_FAME_SIZE = 3\n",
    "CROWDING_FACTOR = 10.0\n",
    "NUM_OF_PARAMS = len(BOUNDS_HIGH)"
   ]
  },
  {
   "cell_type": "code",
   "execution_count": 275,
   "metadata": {},
   "outputs": [],
   "source": [
    "creator.create(\"FitnessMax\",base.Fitness,weights=(1.0,))\n",
    "creator.create(\"Individual\",list,fitness=creator.FitnessMax)"
   ]
  },
  {
   "cell_type": "code",
   "execution_count": 278,
   "metadata": {},
   "outputs": [],
   "source": [
    "toolbox = base.Toolbox()\n",
    "for i in range(NUM_OF_PARAMS):\n",
    "    toolbox.register(\"attribute_\"+str(i),random.uniform,BOUNDS_LOW[i],BOUNDS_HIGH[i])"
   ]
  },
  {
   "cell_type": "code",
   "execution_count": 304,
   "metadata": {},
   "outputs": [],
   "source": [
    "attributes = ()\n",
    "for i in range(NUM_OF_PARAMS):\n",
    "    attributes += (toolbox.__getattribute__(\"attribute_\"+str(i)),)"
   ]
  },
  {
   "cell_type": "code",
   "execution_count": 305,
   "metadata": {},
   "outputs": [],
   "source": [
    "toolbox.register(\"individualCreator\",tools.initCycle,creator.Individual,attributes,n=1)\n",
    "toolbox.register(\"populationCreator\",tools.initRepeat,list,toolbox.individualCreator)"
   ]
  },
  {
   "cell_type": "code",
   "execution_count": 323,
   "metadata": {},
   "outputs": [],
   "source": [
    "def classification_accuracy(individual):\n",
    "    accuracy = individual_accuracy(individual)\n",
    "    return sum(accuracy)/len(accuracy),\n",
    "    \n",
    "toolbox.register(\"evaluate\",classification_accuracy)"
   ]
  },
  {
   "cell_type": "code",
   "execution_count": 319,
   "metadata": {},
   "outputs": [],
   "source": [
    "toolbox.register(\"select\",tools.selTournament,tournsize=2)\n",
    "toolbox.register(\"mate\",tools.cxSimulatedBinaryBounded,low=BOUNDS_LOW,up=BOUNDS_HIGH,eta=CROWDING_FACTOR)\n",
    "toolbox.register(\"mutate\",tools.mutPolynomialBounded,low=BOUNDS_LOW,up=BOUNDS_HIGH,eta=CROWDING_FACTOR,indpb=1.0/NUM_OF_PARAMS)"
   ]
  },
  {
   "cell_type": "code",
   "execution_count": 339,
   "metadata": {},
   "outputs": [],
   "source": [
    "def main():\n",
    "    \n",
    "    \n",
    "    population = toolbox.populationCreator(n=POPULATION_SIZE)\n",
    "\n",
    "    stats = tools.Statistics(lambda ind: ind.fitness.values)\n",
    "    stats.register(\"max\", np.max)\n",
    "    stats.register(\"avg\", np.mean)\n",
    "\n",
    "\n",
    "    hof = tools.HallOfFame(HALL_OF_FAME_SIZE)\n",
    "\n",
    "    population, logbook = elitism.eaSimpleWithElitism(population,toolbox,cxpb=P_CROSSOVER,mutpb=P_MUTATION,ngen=MAX_GENERATIONS,\n",
    "                                                      stats=stats,halloffame=hof,verbose=True)\n",
    "\n",
    "\n",
    "\n",
    "    # print best solution found:\n",
    "\n",
    "    print(\"- Best solutions are:\")\n",
    "    for i in range(HALL_OF_FAME_SIZE):\n",
    "        print(i, \": \", hof.items[i].fitness.values[0], \" -> \", convert_params(hof.items[i]))\n",
    "\n",
    "\n",
    "\n",
    "    # plot statistics:\n",
    "\n",
    "    maxFitnessValues, meanFitnessValues = logbook.select(\"max\", \"avg\")\n",
    "    plt.figure(1)\n",
    "    sns.set_style(\"whitegrid\")\n",
    "    plt.plot(maxFitnessValues, color='red')\n",
    "    plt.plot(meanFitnessValues, color='green')\n",
    "    plt.xlabel('Generation')\n",
    "    plt.ylabel('Max / Average Fitness')\n",
    "    plt.title('Max and Average fitness over Generations')\n",
    "    plt.savefig('Graph.png')\n",
    "    \n",
    "    #print(\"- Best solution is: \\n\",(convert_params(hof.items[0])),\"\\n => accuracy = \",hof.items[0].fitness.values[0])"
   ]
  },
  {
   "cell_type": "code",
   "execution_count": 340,
   "metadata": {},
   "outputs": [
    {
     "name": "stdout",
     "output_type": "stream",
     "text": [
      "gen\tnevals\tmax    \tavg    \n",
      "0  \t20    \t78.6667\t54.9222\n",
      "1  \t14    \t88.8889\t66.9111\n",
      "2  \t16    \t92.1111\t79.1167\n",
      "3  \t12    \t92.1111\t73.9222\n",
      "4  \t16    \t92.1111\t81.8611\n",
      "5  \t15    \t92.4444\t86.1333\n",
      "6  \t11    \t92.4444\t87.6444\n",
      "7  \t14    \t92.4444\t86.6056\n",
      "8  \t14    \t93     \t87.0111\n",
      "- Best solutions are:\n",
      "0 :  93.0  ->  (7, 1, 'relu', 'tanh', 0.15929789673111547, 'Adagrad')\n",
      "1 :  92.8888888888889  ->  (7, 1, 'relu', 'tanh', 0.1593428012440026, 'Adagrad')\n",
      "2 :  92.44444444444446  ->  (7, 1, 'relu', 'tanh', 0.1586752701884665, 'Adagrad')\n"
     ]
    },
    {
     "data": {
      "image/png": "[encoded data removed]",
      "text/plain": [
       "<Figure size 432x288 with 1 Axes>"
      ]
     },
     "metadata": {},
     "output_type": "display_data"
    }
   ],
   "source": [
    "main()"
   ]
  },
  {
   "cell_type": "code",
   "execution_count": 321,
   "metadata": {},
   "outputs": [
    {
     "name": "stdout",
     "output_type": "stream",
     "text": [
      "gen\tnevals\tmax    \tavg    \n",
      "0  \t20    \t92.1111\t49.7556\n",
      "1  \t16    \t92.5556\t70.8444\n",
      "2  \t14    \t92.5556\t84.1833\n",
      "3  \t14    \t94.5556\t87.8722\n",
      "4  \t16    \t97.1111\t87.6111\n",
      "5  \t13    \t97.1111\t88.2   \n",
      "- Best solution is: \n",
      " (10, 7, 'relu', 'tanh', 0.02755842875464165, 'Adagrad') \n",
      " => accuracy =  94.99999999999999\n"
     ]
    }
   ],
   "source": [
    "main()"
   ]
  },
  {
   "cell_type": "code",
   "execution_count": 344,
   "metadata": {},
   "outputs": [
    {
     "data": {
      "text/plain": [
       "[91.00000000000001, 88.66666666666669, 95.99999999999999]"
      ]
     },
     "execution_count": 344,
     "metadata": {},
     "output_type": "execute_result"
    }
   ],
   "source": [
    "individual_accuracy([7,1,1.5,2.4,0.15929,2.5])"
   ]
  },
  {
   "cell_type": "code",
   "execution_count": 343,
   "metadata": {},
   "outputs": [
    {
     "data": {
      "text/plain": [
       "[90.33333333333333, 93.66666666666669, 92.66666666666667]"
      ]
     },
     "execution_count": 343,
     "metadata": {},
     "output_type": "execute_result"
    }
   ],
   "source": [
    "individual_accuracy([10,7,1.5,2.4,0.02755,2.5])"
   ]
  },
  {
   "cell_type": "code",
   "execution_count": 382,
   "metadata": {},
   "outputs": [
    {
     "name": "stdout",
     "output_type": "stream",
     "text": [
      "Mean Accuracy: 91.66666666666664\n",
      "Max Accuracy: 96.66666666666667 at Epoch: 5\n",
      "Epoch: 10, Training Loss: 0.31, Validation Loss: 0.27, accuracy = 96.67\n"
     ]
    },
    {
     "data": {
      "image/png": "[encoded data removed]",
      "text/plain": [
       "<Figure size 1440x432 with 3 Axes>"
      ]
     },
     "metadata": {},
     "output_type": "display_data"
    },
    {
     "data": {
      "text/plain": [
       "91.66666666666664"
      ]
     },
     "execution_count": 382,
     "metadata": {},
     "output_type": "execute_result"
    }
   ],
   "source": [
    "#Opti_graph1\n",
    "get_accuracy([10,7,1.5,2.4,0.02755,2.5])"
   ]
  },
  {
   "cell_type": "code",
   "execution_count": 385,
   "metadata": {},
   "outputs": [
    {
     "name": "stdout",
     "output_type": "stream",
     "text": [
      "Mean Accuracy: 90.0\n",
      "Max Accuracy: 96.66666666666667 at Epoch: 7\n",
      "Epoch: 10, Training Loss: 0.18, Validation Loss: 0.17, accuracy = 96.67\n"
     ]
    },
    {
     "data": {
      "image/png": "[encoded data removed]",
      "text/plain": [
       "<Figure size 1440x432 with 3 Axes>"
      ]
     },
     "metadata": {},
     "output_type": "display_data"
    },
    {
     "data": {
      "text/plain": [
       "90.0"
      ]
     },
     "execution_count": 385,
     "metadata": {},
     "output_type": "execute_result"
    }
   ],
   "source": [
    "#Opti_graph2\n",
    "get_accuracy([7,1,1.5,2.4,0.15929,2.5])"
   ]
  }
 ],
 "metadata": {
  "kernelspec": {
   "display_name": "Python 3",
   "language": "python",
   "name": "python3"
  },
  "language_info": {
   "codemirror_mode": {
    "name": "ipython",
    "version": 3
   },
   "file_extension": ".py",
   "mimetype": "text/x-python",
   "name": "python",
   "nbconvert_exporter": "python",
   "pygments_lexer": "ipython3",
   "version": "3.6.10"
  }
 },
 "nbformat": 4,
 "nbformat_minor": 4
}
